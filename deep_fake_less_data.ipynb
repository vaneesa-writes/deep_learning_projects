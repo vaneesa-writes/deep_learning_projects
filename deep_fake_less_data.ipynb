{
  "nbformat": 4,
  "nbformat_minor": 0,
  "metadata": {
    "colab": {
      "name": "deep_fake_less_data.ipynb",
      "provenance": [],
      "mount_file_id": "1TQjpNDZL9QPTOO5ntQz6aQBKxrNdeYxd",
      "authorship_tag": "ABX9TyO7k+CkXDWK+TWWsGYXg2iU",
      "include_colab_link": true
    },
    "kernelspec": {
      "name": "python3",
      "display_name": "Python 3"
    },
    "language_info": {
      "name": "python"
    },
    "accelerator": "GPU",
    "gpuClass": "standard",
    "widgets": {
      "application/vnd.jupyter.widget-state+json": {
        "4f6700393aed4bac876b88f63e604d8b": {
          "model_module": "@jupyter-widgets/controls",
          "model_name": "HBoxModel",
          "model_module_version": "1.5.0",
          "state": {
            "_dom_classes": [],
            "_model_module": "@jupyter-widgets/controls",
            "_model_module_version": "1.5.0",
            "_model_name": "HBoxModel",
            "_view_count": null,
            "_view_module": "@jupyter-widgets/controls",
            "_view_module_version": "1.5.0",
            "_view_name": "HBoxView",
            "box_style": "",
            "children": [
              "IPY_MODEL_95ca03f4ad2744dca669dc547ad91154",
              "IPY_MODEL_559ac5f8f52441c9acdfb97c61e92fa2",
              "IPY_MODEL_ac23a3f4e4cc476cac9993dba752076b"
            ],
            "layout": "IPY_MODEL_301984a6d3d24fb09b93d790f352fe74"
          }
        },
        "95ca03f4ad2744dca669dc547ad91154": {
          "model_module": "@jupyter-widgets/controls",
          "model_name": "HTMLModel",
          "model_module_version": "1.5.0",
          "state": {
            "_dom_classes": [],
            "_model_module": "@jupyter-widgets/controls",
            "_model_module_version": "1.5.0",
            "_model_name": "HTMLModel",
            "_view_count": null,
            "_view_module": "@jupyter-widgets/controls",
            "_view_module_version": "1.5.0",
            "_view_name": "HTMLView",
            "description": "",
            "description_tooltip": null,
            "layout": "IPY_MODEL_063c4a87bf7948d68ee8e075e7c03614",
            "placeholder": "​",
            "style": "IPY_MODEL_0f7855f9aba148eabfc382f99ea83636",
            "value": "100%"
          }
        },
        "559ac5f8f52441c9acdfb97c61e92fa2": {
          "model_module": "@jupyter-widgets/controls",
          "model_name": "FloatProgressModel",
          "model_module_version": "1.5.0",
          "state": {
            "_dom_classes": [],
            "_model_module": "@jupyter-widgets/controls",
            "_model_module_version": "1.5.0",
            "_model_name": "FloatProgressModel",
            "_view_count": null,
            "_view_module": "@jupyter-widgets/controls",
            "_view_module_version": "1.5.0",
            "_view_name": "ProgressView",
            "bar_style": "success",
            "description": "",
            "description_tooltip": null,
            "layout": "IPY_MODEL_65841061397a49c48277a48699eabf49",
            "max": 100441675,
            "min": 0,
            "orientation": "horizontal",
            "style": "IPY_MODEL_61784c37af4946368edcfcafa91140a1",
            "value": 100441675
          }
        },
        "ac23a3f4e4cc476cac9993dba752076b": {
          "model_module": "@jupyter-widgets/controls",
          "model_name": "HTMLModel",
          "model_module_version": "1.5.0",
          "state": {
            "_dom_classes": [],
            "_model_module": "@jupyter-widgets/controls",
            "_model_module_version": "1.5.0",
            "_model_name": "HTMLModel",
            "_view_count": null,
            "_view_module": "@jupyter-widgets/controls",
            "_view_module_version": "1.5.0",
            "_view_name": "HTMLView",
            "description": "",
            "description_tooltip": null,
            "layout": "IPY_MODEL_aa83c8d5f37b4271af37c6442d7c7ec6",
            "placeholder": "​",
            "style": "IPY_MODEL_e9cf660bdb564f7280e122e98b74c0e4",
            "value": " 95.8M/95.8M [00:05&lt;00:00, 14.8MB/s]"
          }
        },
        "301984a6d3d24fb09b93d790f352fe74": {
          "model_module": "@jupyter-widgets/base",
          "model_name": "LayoutModel",
          "model_module_version": "1.2.0",
          "state": {
            "_model_module": "@jupyter-widgets/base",
            "_model_module_version": "1.2.0",
            "_model_name": "LayoutModel",
            "_view_count": null,
            "_view_module": "@jupyter-widgets/base",
            "_view_module_version": "1.2.0",
            "_view_name": "LayoutView",
            "align_content": null,
            "align_items": null,
            "align_self": null,
            "border": null,
            "bottom": null,
            "display": null,
            "flex": null,
            "flex_flow": null,
            "grid_area": null,
            "grid_auto_columns": null,
            "grid_auto_flow": null,
            "grid_auto_rows": null,
            "grid_column": null,
            "grid_gap": null,
            "grid_row": null,
            "grid_template_areas": null,
            "grid_template_columns": null,
            "grid_template_rows": null,
            "height": null,
            "justify_content": null,
            "justify_items": null,
            "left": null,
            "margin": null,
            "max_height": null,
            "max_width": null,
            "min_height": null,
            "min_width": null,
            "object_fit": null,
            "object_position": null,
            "order": null,
            "overflow": null,
            "overflow_x": null,
            "overflow_y": null,
            "padding": null,
            "right": null,
            "top": null,
            "visibility": null,
            "width": null
          }
        },
        "063c4a87bf7948d68ee8e075e7c03614": {
          "model_module": "@jupyter-widgets/base",
          "model_name": "LayoutModel",
          "model_module_version": "1.2.0",
          "state": {
            "_model_module": "@jupyter-widgets/base",
            "_model_module_version": "1.2.0",
            "_model_name": "LayoutModel",
            "_view_count": null,
            "_view_module": "@jupyter-widgets/base",
            "_view_module_version": "1.2.0",
            "_view_name": "LayoutView",
            "align_content": null,
            "align_items": null,
            "align_self": null,
            "border": null,
            "bottom": null,
            "display": null,
            "flex": null,
            "flex_flow": null,
            "grid_area": null,
            "grid_auto_columns": null,
            "grid_auto_flow": null,
            "grid_auto_rows": null,
            "grid_column": null,
            "grid_gap": null,
            "grid_row": null,
            "grid_template_areas": null,
            "grid_template_columns": null,
            "grid_template_rows": null,
            "height": null,
            "justify_content": null,
            "justify_items": null,
            "left": null,
            "margin": null,
            "max_height": null,
            "max_width": null,
            "min_height": null,
            "min_width": null,
            "object_fit": null,
            "object_position": null,
            "order": null,
            "overflow": null,
            "overflow_x": null,
            "overflow_y": null,
            "padding": null,
            "right": null,
            "top": null,
            "visibility": null,
            "width": null
          }
        },
        "0f7855f9aba148eabfc382f99ea83636": {
          "model_module": "@jupyter-widgets/controls",
          "model_name": "DescriptionStyleModel",
          "model_module_version": "1.5.0",
          "state": {
            "_model_module": "@jupyter-widgets/controls",
            "_model_module_version": "1.5.0",
            "_model_name": "DescriptionStyleModel",
            "_view_count": null,
            "_view_module": "@jupyter-widgets/base",
            "_view_module_version": "1.2.0",
            "_view_name": "StyleView",
            "description_width": ""
          }
        },
        "65841061397a49c48277a48699eabf49": {
          "model_module": "@jupyter-widgets/base",
          "model_name": "LayoutModel",
          "model_module_version": "1.2.0",
          "state": {
            "_model_module": "@jupyter-widgets/base",
            "_model_module_version": "1.2.0",
            "_model_name": "LayoutModel",
            "_view_count": null,
            "_view_module": "@jupyter-widgets/base",
            "_view_module_version": "1.2.0",
            "_view_name": "LayoutView",
            "align_content": null,
            "align_items": null,
            "align_self": null,
            "border": null,
            "bottom": null,
            "display": null,
            "flex": null,
            "flex_flow": null,
            "grid_area": null,
            "grid_auto_columns": null,
            "grid_auto_flow": null,
            "grid_auto_rows": null,
            "grid_column": null,
            "grid_gap": null,
            "grid_row": null,
            "grid_template_areas": null,
            "grid_template_columns": null,
            "grid_template_rows": null,
            "height": null,
            "justify_content": null,
            "justify_items": null,
            "left": null,
            "margin": null,
            "max_height": null,
            "max_width": null,
            "min_height": null,
            "min_width": null,
            "object_fit": null,
            "object_position": null,
            "order": null,
            "overflow": null,
            "overflow_x": null,
            "overflow_y": null,
            "padding": null,
            "right": null,
            "top": null,
            "visibility": null,
            "width": null
          }
        },
        "61784c37af4946368edcfcafa91140a1": {
          "model_module": "@jupyter-widgets/controls",
          "model_name": "ProgressStyleModel",
          "model_module_version": "1.5.0",
          "state": {
            "_model_module": "@jupyter-widgets/controls",
            "_model_module_version": "1.5.0",
            "_model_name": "ProgressStyleModel",
            "_view_count": null,
            "_view_module": "@jupyter-widgets/base",
            "_view_module_version": "1.2.0",
            "_view_name": "StyleView",
            "bar_color": null,
            "description_width": ""
          }
        },
        "aa83c8d5f37b4271af37c6442d7c7ec6": {
          "model_module": "@jupyter-widgets/base",
          "model_name": "LayoutModel",
          "model_module_version": "1.2.0",
          "state": {
            "_model_module": "@jupyter-widgets/base",
            "_model_module_version": "1.2.0",
            "_model_name": "LayoutModel",
            "_view_count": null,
            "_view_module": "@jupyter-widgets/base",
            "_view_module_version": "1.2.0",
            "_view_name": "LayoutView",
            "align_content": null,
            "align_items": null,
            "align_self": null,
            "border": null,
            "bottom": null,
            "display": null,
            "flex": null,
            "flex_flow": null,
            "grid_area": null,
            "grid_auto_columns": null,
            "grid_auto_flow": null,
            "grid_auto_rows": null,
            "grid_column": null,
            "grid_gap": null,
            "grid_row": null,
            "grid_template_areas": null,
            "grid_template_columns": null,
            "grid_template_rows": null,
            "height": null,
            "justify_content": null,
            "justify_items": null,
            "left": null,
            "margin": null,
            "max_height": null,
            "max_width": null,
            "min_height": null,
            "min_width": null,
            "object_fit": null,
            "object_position": null,
            "order": null,
            "overflow": null,
            "overflow_x": null,
            "overflow_y": null,
            "padding": null,
            "right": null,
            "top": null,
            "visibility": null,
            "width": null
          }
        },
        "e9cf660bdb564f7280e122e98b74c0e4": {
          "model_module": "@jupyter-widgets/controls",
          "model_name": "DescriptionStyleModel",
          "model_module_version": "1.5.0",
          "state": {
            "_model_module": "@jupyter-widgets/controls",
            "_model_module_version": "1.5.0",
            "_model_name": "DescriptionStyleModel",
            "_view_count": null,
            "_view_module": "@jupyter-widgets/base",
            "_view_module_version": "1.2.0",
            "_view_name": "StyleView",
            "description_width": ""
          }
        }
      }
    }
  },
  "cells": [
    {
      "cell_type": "markdown",
      "metadata": {
        "id": "view-in-github",
        "colab_type": "text"
      },
      "source": [
        "<a href=\"https://colab.research.google.com/github/vaneesa-writes/deep_learning_projects/blob/main/deep_fake_less_data.ipynb\" target=\"_parent\"><img src=\"https://colab.research.google.com/assets/colab-badge.svg\" alt=\"Open In Colab\"/></a>"
      ]
    },
    {
      "cell_type": "code",
      "execution_count": 1,
      "metadata": {
        "id": "dP5CgihqZRzM"
      },
      "outputs": [],
      "source": [
        "! mkdir ~/.kaggle\n",
        "! cp kaggle.json ~/.kaggle/\n",
        "! chmod 600 ~/.kaggle/kaggle.json"
      ]
    },
    {
      "cell_type": "markdown",
      "source": [
        "Download dataset and complete Preprocessing ( reduce to 150 frames and save face cropped videos )"
      ],
      "metadata": {
        "id": "lL1sY1n83tEp"
      }
    },
    {
      "cell_type": "code",
      "source": [
        "! kaggle competitions download -c deepfake-detection-challenge"
      ],
      "metadata": {
        "colab": {
          "base_uri": "https://localhost:8080/"
        },
        "id": "R0P_kaEiZ1Jt",
        "outputId": "f0db7da0-e9d5-4c93-c6d5-6debc24fee39"
      },
      "execution_count": 2,
      "outputs": [
        {
          "output_type": "stream",
          "name": "stdout",
          "text": [
            "Downloading deepfake-detection-challenge.zip to /content\n",
            "100% 4.13G/4.13G [00:28<00:00, 187MB/s]\n",
            "100% 4.13G/4.13G [00:28<00:00, 156MB/s]\n"
          ]
        }
      ]
    },
    {
      "cell_type": "code",
      "source": [
        "!unzip /content/deepfake-detection-challenge.zip"
      ],
      "metadata": {
        "id": "0MOA5HO-Z1GI"
      },
      "execution_count": null,
      "outputs": []
    },
    {
      "cell_type": "code",
      "source": [
        "import shutil"
      ],
      "metadata": {
        "id": "kAXk14AEZ1Dc"
      },
      "execution_count": 4,
      "outputs": []
    },
    {
      "cell_type": "code",
      "source": [
        "shutil.copytree('/content/train_sample_videos/','/content/drive/MyDrive/dataset/deep_fake/train_sample_videos')"
      ],
      "metadata": {
        "colab": {
          "base_uri": "https://localhost:8080/",
          "height": 36
        },
        "id": "AH2fQLh5Z1Au",
        "outputId": "50644aa8-427f-436a-c5fd-e948819245dc"
      },
      "execution_count": 8,
      "outputs": [
        {
          "output_type": "execute_result",
          "data": {
            "text/plain": [
              "'/content/drive/MyDrive/dataset/deep_fake/train_sample_videos'"
            ],
            "application/vnd.google.colaboratory.intrinsic+json": {
              "type": "string"
            }
          },
          "metadata": {},
          "execution_count": 8
        }
      ]
    },
    {
      "cell_type": "code",
      "source": [
        "import json\n",
        "import glob\n",
        "import numpy as np\n",
        "import cv2\n",
        "import copy\n",
        "\n",
        "video_files =  glob.glob('/content/drive/MyDrive/dataset/deep_fake/train_sample_videos/*.mp4')\n",
        "\n",
        "frame_count = []\n",
        "for video_file in video_files:\n",
        "  cap = cv2.VideoCapture(video_file)\n",
        "  if(int(cap.get(cv2.CAP_PROP_FRAME_COUNT))<150):\n",
        "    video_files.remove(video_file)\n",
        "    continue\n",
        "  frame_count.append(int(cap.get(cv2.CAP_PROP_FRAME_COUNT)))\n",
        "print(\"frames\" , frame_count)\n",
        "print(\"Total number of videos: \" , len(frame_count))\n",
        "print('Average frame per video:',np.mean(frame_count))"
      ],
      "metadata": {
        "colab": {
          "base_uri": "https://localhost:8080/"
        },
        "id": "WvzRIOnKZ098",
        "outputId": "83dde439-eb90-4cf9-caf6-b3a4f883c38a"
      },
      "execution_count": 1,
      "outputs": [
        {
          "output_type": "stream",
          "name": "stdout",
          "text": [
            "frames [300, 300, 298, 300, 300, 300, 300, 300, 300, 300, 300, 300, 300, 298, 300, 300, 300, 300, 300, 300, 300, 300, 300, 300, 300, 300, 300, 300, 300, 300, 300, 300, 300, 300, 298, 300, 300, 300, 300, 300, 300, 300, 300, 300, 300, 300, 300, 300, 300, 300, 300, 300, 300, 300, 300, 300, 300, 300, 300, 300, 300, 300, 300, 300, 300, 300, 300, 300, 300, 300, 300, 300, 300, 300, 300, 300, 300, 300, 298, 300, 300, 300, 300, 300, 300, 300, 300, 300, 300, 300, 300, 300, 300, 300, 300, 300, 300, 300, 300, 300, 300, 300, 298, 300, 300, 300, 300, 300, 300, 300, 300, 300, 300, 300, 300, 300, 300, 300, 300, 300, 300, 300, 300, 300, 300, 300, 300, 300, 300, 300, 300, 300, 300, 300, 300, 300, 300, 300, 300, 300, 300, 300, 300, 300, 300, 300, 300, 300, 300, 300, 300, 300, 300, 300, 300, 300, 300, 300, 300, 300, 300, 300, 300, 300, 300, 300, 300, 300, 300, 300, 300, 300, 300, 300, 300, 298, 300, 300, 300, 300, 300, 300, 300, 300, 300, 300, 300, 300, 300, 300, 300, 300, 300, 300, 300, 300, 300, 300, 300, 300, 298, 300, 300, 300, 300, 300, 300, 300, 300, 300, 300, 300, 300, 300, 300, 300, 300, 300, 300, 298, 300, 300, 300, 300, 300, 300, 300, 300, 300, 300, 300, 300, 300, 300, 300, 300, 300, 300, 300, 300, 300, 300, 300, 300, 300, 300, 300, 300, 300, 300, 300, 300, 298, 300, 300, 300, 300, 300, 300, 298, 300, 300, 300, 300, 300, 300, 300, 300, 300, 300, 300, 300, 298, 300, 300, 300, 300, 300, 300, 300, 300, 300, 300, 300, 300, 300, 300, 300, 300, 300, 300, 300, 300, 300, 300, 300, 300, 300, 300, 298, 300, 300, 300, 300, 300, 300, 300, 300, 300, 300, 300, 300, 300, 300, 300, 300, 300, 300, 300, 300, 300, 300, 300, 300, 300, 300, 300, 300, 300, 300, 300, 300, 300, 300, 300, 300, 300, 300, 300, 300, 300, 300, 300, 300, 300, 300, 300, 300, 300, 300, 300, 300, 300, 300, 300, 300, 300, 300, 300, 300, 300, 300, 300, 300, 300, 300, 300, 300, 300, 300, 300, 300, 300, 300, 300, 300, 300, 300, 300, 300, 300, 300, 300, 300, 300, 300, 300, 300, 300, 300, 300, 300, 300, 298, 300, 300, 300, 300, 300, 300]\n",
            "Total number of videos:  400\n",
            "Average frame per video: 299.935\n"
          ]
        }
      ]
    },
    {
      "cell_type": "code",
      "source": [
        "def frame_extract(path):\n",
        "  vidObj = cv2.VideoCapture(path) \n",
        "  success = 1\n",
        "  while success:\n",
        "      success, image = vidObj.read()\n",
        "      if success:\n",
        "          yield image\n",
        "!pip3 install face_recognition\n",
        "!mkdir '/content/drive/My Drive/FF_REAL_Face_only_data'\n",
        "import torch\n",
        "import torchvision\n",
        "from torchvision import transforms\n",
        "from torch.utils.data import DataLoader\n",
        "from torch.utils.data.dataset import Dataset\n",
        "import os\n",
        "import numpy as np\n",
        "import cv2\n",
        "import matplotlib.pyplot as plt\n",
        "import face_recognition\n",
        "from tqdm.autonotebook import tqdm\n",
        "# process the frames\n"
      ],
      "metadata": {
        "colab": {
          "base_uri": "https://localhost:8080/"
        },
        "id": "2g7332LCZ06-",
        "outputId": "d3036d41-19d1-4d96-843e-e9c1fc2792b4"
      },
      "execution_count": 2,
      "outputs": [
        {
          "output_type": "stream",
          "name": "stdout",
          "text": [
            "Looking in indexes: https://pypi.org/simple, https://us-python.pkg.dev/colab-wheels/public/simple/\n",
            "Requirement already satisfied: face_recognition in /usr/local/lib/python3.7/dist-packages (1.3.0)\n",
            "Requirement already satisfied: Click>=6.0 in /usr/local/lib/python3.7/dist-packages (from face_recognition) (7.1.2)\n",
            "Requirement already satisfied: Pillow in /usr/local/lib/python3.7/dist-packages (from face_recognition) (7.1.2)\n",
            "Requirement already satisfied: face-recognition-models>=0.3.0 in /usr/local/lib/python3.7/dist-packages (from face_recognition) (0.3.0)\n",
            "Requirement already satisfied: dlib>=19.7 in /usr/local/lib/python3.7/dist-packages (from face_recognition) (19.22.1)\n",
            "Requirement already satisfied: numpy in /usr/local/lib/python3.7/dist-packages (from face_recognition) (1.21.6)\n"
          ]
        }
      ]
    },
    {
      "cell_type": "code",
      "source": [
        "def create_face_videos(path_list,out_dir):\n",
        "  already_present_count =  glob.glob(out_dir+'*.mp4')\n",
        "  print(\"No of videos already present \" , len(already_present_count))\n",
        "  for path in tqdm(path_list):\n",
        "    out_path = os.path.join(out_dir,path.split('/')[-1])\n",
        "    file_exists = glob.glob(out_path)\n",
        "    if(len(file_exists) != 0):\n",
        "      print(\"File Already exists: \" , out_path)\n",
        "      continue\n",
        "    frames = []\n",
        "    flag = 0\n",
        "    face_all = []\n",
        "    frames1 = []\n",
        "    out = cv2.VideoWriter(out_path,cv2.VideoWriter_fourcc('M','J','P','G'), 30, (112,112))\n",
        "    for idx,frame in enumerate(frame_extract(path)):\n",
        "      #if(idx % 3 == 0):\n",
        "      if(idx <= 150):\n",
        "        frames.append(frame)\n",
        "        if(len(frames) == 4):\n",
        "          faces = face_recognition.batch_face_locations(frames)\n",
        "          for i,face in enumerate(faces):\n",
        "            if(len(face) != 0):\n",
        "              top,right,bottom,left = face[0]\n",
        "            try:\n",
        "              out.write(cv2.resize(frames[i][top:bottom,left:right,:],(112,112)))\n",
        "            except:\n",
        "              pass\n",
        "          frames = []\n",
        "    try:\n",
        "      del top,right,bottom,left\n",
        "    except:\n",
        "      pass\n",
        "    out.release()"
      ],
      "metadata": {
        "id": "36U3WLSDZ04C"
      },
      "execution_count": 3,
      "outputs": []
    },
    {
      "cell_type": "code",
      "source": [
        "create_face_videos(video_files,'/content/drive/MyDrive/dataset/FF_REAL_Face_only_data')"
      ],
      "metadata": {
        "id": "QBZwT5XUZ01R"
      },
      "execution_count": null,
      "outputs": []
    },
    {
      "cell_type": "code",
      "source": [
        "!mkdir '/content/drive/MyDrive/dataset/FF_REAL_Face_only_data'"
      ],
      "metadata": {
        "id": "GVsm8T6OZ0yt"
      },
      "execution_count": 5,
      "outputs": []
    },
    {
      "cell_type": "code",
      "source": [
        "!pip install dlib==19.22.1"
      ],
      "metadata": {
        "colab": {
          "base_uri": "https://localhost:8080/",
          "height": 395
        },
        "id": "jnY6q8T2Z0vm",
        "outputId": "8a26ad52-f2fa-421f-c295-6fb35a628182"
      },
      "execution_count": 7,
      "outputs": [
        {
          "output_type": "stream",
          "name": "stdout",
          "text": [
            "Looking in indexes: https://pypi.org/simple, https://us-python.pkg.dev/colab-wheels/public/simple/\n",
            "Collecting dlib==19.22.1\n",
            "  Downloading dlib-19.22.1.tar.gz (7.4 MB)\n",
            "\u001b[K     |████████████████████████████████| 7.4 MB 5.1 MB/s \n",
            "\u001b[?25hBuilding wheels for collected packages: dlib\n",
            "  Building wheel for dlib (setup.py) ... \u001b[?25l\u001b[?25hdone\n",
            "  Created wheel for dlib: filename=dlib-19.22.1-cp37-cp37m-linux_x86_64.whl size=4202364 sha256=cc3b48400fb6890f56986577c004225be55978ae46ba80dcf037654cfa3f14c8\n",
            "  Stored in directory: /root/.cache/pip/wheels/10/6f/db/ef0380a66d955f9caa81cff6027fb77c0b556568e0daace292\n",
            "Successfully built dlib\n",
            "Installing collected packages: dlib\n",
            "  Attempting uninstall: dlib\n",
            "    Found existing installation: dlib 19.24.0\n",
            "    Uninstalling dlib-19.24.0:\n",
            "      Successfully uninstalled dlib-19.24.0\n",
            "Successfully installed dlib-19.22.1\n"
          ]
        },
        {
          "output_type": "display_data",
          "data": {
            "application/vnd.colab-display-data+json": {
              "pip_warning": {
                "packages": [
                  "_dlib_pybind11",
                  "dlib"
                ]
              }
            }
          },
          "metadata": {}
        }
      ]
    },
    {
      "cell_type": "code",
      "source": [
        "import glob\n",
        "import torch\n",
        "import torchvision\n",
        "from torchvision import transforms\n",
        "from torch.utils.data import DataLoader\n",
        "from torch.utils.data.dataset import Dataset\n",
        "import os\n",
        "import numpy as np\n",
        "import cv2\n",
        "import matplotlib.pyplot as plt\n",
        "import face_recognition\n",
        "#Check if the file is corrupted or not\n",
        "def validate_video(vid_path,train_transforms):\n",
        "      transform = train_transforms\n",
        "      count = 20\n",
        "      video_path = vid_path\n",
        "      frames = []\n",
        "      a = int(100/count)\n",
        "      first_frame = np.random.randint(0,a)\n",
        "      temp_video = video_path.split('/')[-1]\n",
        "      for i,frame in enumerate(frame_extract(video_path)):\n",
        "        frames.append(transform(frame))\n",
        "        if(len(frames) == count):\n",
        "          break\n",
        "      frames = torch.stack(frames)\n",
        "      frames = frames[:count]\n",
        "      return frames\n",
        "#extract a from from video\n",
        "def frame_extract(path):\n",
        "  vidObj = cv2.VideoCapture(path) \n",
        "  success = 1\n",
        "  while success:\n",
        "      success, image = vidObj.read()\n",
        "      if success:\n",
        "          yield image\n",
        "\n",
        "im_size = 112\n",
        "mean = [0.485, 0.456, 0.406]\n",
        "std = [0.229, 0.224, 0.225]\n",
        "\n",
        "train_transforms = transforms.Compose([\n",
        "                                        transforms.ToPILImage(),\n",
        "                                        transforms.Resize((im_size,im_size)),\n",
        "                                        transforms.ToTensor(),\n",
        "                                        transforms.Normalize(mean,std)])\n",
        "video_fil =  glob.glob('/content/drive/MyDrive/dataset/FF_REAL_Face_only_data/*.mp4')\n",
        "\n",
        "print(\"Total no of videos :\" , len(video_fil))\n",
        "print(video_fil)\n",
        "count = 0;\n",
        "for i in video_fil:\n",
        "  try:\n",
        "    count+=1\n",
        "    validate_video(i,train_transforms)\n",
        "  except:\n",
        "    print(\"Number of video processed: \" , count ,\" Remaining : \" , (len(video_fil) - count))\n",
        "    print(\"Corrupted video is : \" , i)\n",
        "    continue\n",
        "print((len(video_fil) - count))"
      ],
      "metadata": {
        "colab": {
          "base_uri": "https://localhost:8080/"
        },
        "id": "eCx7wVByZ0su",
        "outputId": "3b34fc75-b378-4cee-b4a9-850affe9f46b"
      },
      "execution_count": 6,
      "outputs": [
        {
          "output_type": "stream",
          "name": "stdout",
          "text": [
            "Total no of videos : 160\n",
            "['/content/drive/MyDrive/dataset/FF_REAL_Face_only_data/dhcndnuwta.mp4', '/content/drive/MyDrive/dataset/FF_REAL_Face_only_data/augtsuxpzc.mp4', '/content/drive/MyDrive/dataset/FF_REAL_Face_only_data/aladcziidp.mp4', '/content/drive/MyDrive/dataset/FF_REAL_Face_only_data/aapnvogymq.mp4', '/content/drive/MyDrive/dataset/FF_REAL_Face_only_data/aagfhgtpmv.mp4', '/content/drive/MyDrive/dataset/FF_REAL_Face_only_data/abofeumbvv.mp4', '/content/drive/MyDrive/dataset/FF_REAL_Face_only_data/acxnxvbsxk.mp4', '/content/drive/MyDrive/dataset/FF_REAL_Face_only_data/abqwwspghj.mp4', '/content/drive/MyDrive/dataset/FF_REAL_Face_only_data/acifjvzvpm.mp4', '/content/drive/MyDrive/dataset/FF_REAL_Face_only_data/acqfdwsrhi.mp4', '/content/drive/MyDrive/dataset/FF_REAL_Face_only_data/abarnvbtwb.mp4', '/content/drive/MyDrive/dataset/FF_REAL_Face_only_data/adohikbdaz.mp4', '/content/drive/MyDrive/dataset/FF_REAL_Face_only_data/aczrgyricp.mp4', '/content/drive/MyDrive/dataset/FF_REAL_Face_only_data/acxwigylke.mp4', '/content/drive/MyDrive/dataset/FF_REAL_Face_only_data/adylbeequz.mp4', '/content/drive/MyDrive/dataset/FF_REAL_Face_only_data/adhsbajydo.mp4', '/content/drive/MyDrive/dataset/FF_REAL_Face_only_data/afoovlsmtx.mp4', '/content/drive/MyDrive/dataset/FF_REAL_Face_only_data/aelzhcnwgf.mp4', '/content/drive/MyDrive/dataset/FF_REAL_Face_only_data/aevrfsexku.mp4', '/content/drive/MyDrive/dataset/FF_REAL_Face_only_data/aelfnikyqj.mp4', '/content/drive/MyDrive/dataset/FF_REAL_Face_only_data/aettqgevhz.mp4', '/content/drive/MyDrive/dataset/FF_REAL_Face_only_data/agqphdxmwt.mp4', '/content/drive/MyDrive/dataset/FF_REAL_Face_only_data/ahbweevwpv.mp4', '/content/drive/MyDrive/dataset/FF_REAL_Face_only_data/agdkmztvby.mp4', '/content/drive/MyDrive/dataset/FF_REAL_Face_only_data/agrmhtjdlk.mp4', '/content/drive/MyDrive/dataset/FF_REAL_Face_only_data/aipfdnwpoo.mp4', '/content/drive/MyDrive/dataset/FF_REAL_Face_only_data/ahdbuwqxit.mp4', '/content/drive/MyDrive/dataset/FF_REAL_Face_only_data/ahfazfbntc.mp4', '/content/drive/MyDrive/dataset/FF_REAL_Face_only_data/ahqqqilsxt.mp4', '/content/drive/MyDrive/dataset/FF_REAL_Face_only_data/ajwpjhrbcv.mp4', '/content/drive/MyDrive/dataset/FF_REAL_Face_only_data/ajqslcypsw.mp4', '/content/drive/MyDrive/dataset/FF_REAL_Face_only_data/aknbdpmgua.mp4', '/content/drive/MyDrive/dataset/FF_REAL_Face_only_data/aklqzsddfl.mp4', '/content/drive/MyDrive/dataset/FF_REAL_Face_only_data/aknmpoonls.mp4', '/content/drive/MyDrive/dataset/FF_REAL_Face_only_data/alaijyygdv.mp4', '/content/drive/MyDrive/dataset/FF_REAL_Face_only_data/akxoopqjqz.mp4', '/content/drive/MyDrive/dataset/FF_REAL_Face_only_data/akvmwkdyuv.mp4', '/content/drive/MyDrive/dataset/FF_REAL_Face_only_data/akzbnazxtz.mp4', '/content/drive/MyDrive/dataset/FF_REAL_Face_only_data/andaxzscny.mp4', '/content/drive/MyDrive/dataset/FF_REAL_Face_only_data/amaivqofda.mp4', '/content/drive/MyDrive/dataset/FF_REAL_Face_only_data/amowujxmzc.mp4', '/content/drive/MyDrive/dataset/FF_REAL_Face_only_data/alninxcyhg.mp4', '/content/drive/MyDrive/dataset/FF_REAL_Face_only_data/alvgwypubw.mp4', '/content/drive/MyDrive/dataset/FF_REAL_Face_only_data/altziddtxi.mp4', '/content/drive/MyDrive/dataset/FF_REAL_Face_only_data/anpuvshzoo.mp4', '/content/drive/MyDrive/dataset/FF_REAL_Face_only_data/aorjvbyxhw.mp4', '/content/drive/MyDrive/dataset/FF_REAL_Face_only_data/aneclqfpbt.mp4', '/content/drive/MyDrive/dataset/FF_REAL_Face_only_data/apgjqzkoma.mp4', '/content/drive/MyDrive/dataset/FF_REAL_Face_only_data/apatcsqejh.mp4', '/content/drive/MyDrive/dataset/FF_REAL_Face_only_data/arkroixhey.mp4', '/content/drive/MyDrive/dataset/FF_REAL_Face_only_data/apogckdfrz.mp4', '/content/drive/MyDrive/dataset/FF_REAL_Face_only_data/aqpnvjhuzw.mp4', '/content/drive/MyDrive/dataset/FF_REAL_Face_only_data/arlmiizoob.mp4', '/content/drive/MyDrive/dataset/FF_REAL_Face_only_data/asaxgevnnp.mp4', '/content/drive/MyDrive/dataset/FF_REAL_Face_only_data/asdpeebotb.mp4', '/content/drive/MyDrive/dataset/FF_REAL_Face_only_data/asmpfjfzif.mp4', '/content/drive/MyDrive/dataset/FF_REAL_Face_only_data/aslsvlvpth.mp4', '/content/drive/MyDrive/dataset/FF_REAL_Face_only_data/asvcrfdpnq.mp4', '/content/drive/MyDrive/dataset/FF_REAL_Face_only_data/arrhsnjqku.mp4', '/content/drive/MyDrive/dataset/FF_REAL_Face_only_data/atxvxouljq.mp4', '/content/drive/MyDrive/dataset/FF_REAL_Face_only_data/atkdltyyen.mp4', '/content/drive/MyDrive/dataset/FF_REAL_Face_only_data/atvmxvwyns.mp4', '/content/drive/MyDrive/dataset/FF_REAL_Face_only_data/atzdznmder.mp4', '/content/drive/MyDrive/dataset/FF_REAL_Face_only_data/atyntldecu.mp4', '/content/drive/MyDrive/dataset/FF_REAL_Face_only_data/aufmsmnoye.mp4', '/content/drive/MyDrive/dataset/FF_REAL_Face_only_data/avfitoutyn.mp4', '/content/drive/MyDrive/dataset/FF_REAL_Face_only_data/avibnnhwhp.mp4', '/content/drive/MyDrive/dataset/FF_REAL_Face_only_data/avgiuextiz.mp4', '/content/drive/MyDrive/dataset/FF_REAL_Face_only_data/avssvvsdhz.mp4', '/content/drive/MyDrive/dataset/FF_REAL_Face_only_data/avvdgsennp.mp4', '/content/drive/MyDrive/dataset/FF_REAL_Face_only_data/avmjormvsx.mp4', '/content/drive/MyDrive/dataset/FF_REAL_Face_only_data/avnqydkqjj.mp4', '/content/drive/MyDrive/dataset/FF_REAL_Face_only_data/avtycwsgyb.mp4', '/content/drive/MyDrive/dataset/FF_REAL_Face_only_data/awhmfnnjih.mp4', '/content/drive/MyDrive/dataset/FF_REAL_Face_only_data/awukslzjra.mp4', '/content/drive/MyDrive/dataset/FF_REAL_Face_only_data/awnwkrqibf.mp4', '/content/drive/MyDrive/dataset/FF_REAL_Face_only_data/axczxisdtb.mp4', '/content/drive/MyDrive/dataset/FF_REAL_Face_only_data/avywawptfc.mp4', '/content/drive/MyDrive/dataset/FF_REAL_Face_only_data/axoygtekut.mp4', '/content/drive/MyDrive/dataset/FF_REAL_Face_only_data/axwgcsyphv.mp4', '/content/drive/MyDrive/dataset/FF_REAL_Face_only_data/axwovszumc.mp4', '/content/drive/MyDrive/dataset/FF_REAL_Face_only_data/axntxmycwd.mp4', '/content/drive/MyDrive/dataset/FF_REAL_Face_only_data/aytzyidmgs.mp4', '/content/drive/MyDrive/dataset/FF_REAL_Face_only_data/aybumesmpk.mp4', '/content/drive/MyDrive/dataset/FF_REAL_Face_only_data/aybgughjxh.mp4', '/content/drive/MyDrive/dataset/FF_REAL_Face_only_data/ayqvfdhslr.mp4', '/content/drive/MyDrive/dataset/FF_REAL_Face_only_data/bahdpoesir.mp4', '/content/drive/MyDrive/dataset/FF_REAL_Face_only_data/bbhpvrmbse.mp4', '/content/drive/MyDrive/dataset/FF_REAL_Face_only_data/azpuxunqyo.mp4', '/content/drive/MyDrive/dataset/FF_REAL_Face_only_data/azsmewqghg.mp4', '/content/drive/MyDrive/dataset/FF_REAL_Face_only_data/bchnbulevv.mp4', '/content/drive/MyDrive/dataset/FF_REAL_Face_only_data/bbhtdfuqxq.mp4', '/content/drive/MyDrive/dataset/FF_REAL_Face_only_data/bdbhekrrwo.mp4', '/content/drive/MyDrive/dataset/FF_REAL_Face_only_data/bddjdhzfze.mp4', '/content/drive/MyDrive/dataset/FF_REAL_Face_only_data/bbvgxeczei.mp4', '/content/drive/MyDrive/dataset/FF_REAL_Face_only_data/bctvsmddgq.mp4', '/content/drive/MyDrive/dataset/FF_REAL_Face_only_data/bdxuhamuqx.mp4', '/content/drive/MyDrive/dataset/FF_REAL_Face_only_data/bdgipnyobr.mp4', '/content/drive/MyDrive/dataset/FF_REAL_Face_only_data/bdnaqemxmr.mp4', '/content/drive/MyDrive/dataset/FF_REAL_Face_only_data/beyebyhrph.mp4', '/content/drive/MyDrive/dataset/FF_REAL_Face_only_data/bejhvclboh.mp4', '/content/drive/MyDrive/dataset/FF_REAL_Face_only_data/benmsfzfaz.mp4', '/content/drive/MyDrive/dataset/FF_REAL_Face_only_data/beboztfcme.mp4', '/content/drive/MyDrive/dataset/FF_REAL_Face_only_data/bggsurpgpr.mp4', '/content/drive/MyDrive/dataset/FF_REAL_Face_only_data/bguwlyazau.mp4', '/content/drive/MyDrive/dataset/FF_REAL_Face_only_data/bgmlwsoamc.mp4', '/content/drive/MyDrive/dataset/FF_REAL_Face_only_data/bffwsjxghk.mp4', '/content/drive/MyDrive/dataset/FF_REAL_Face_only_data/bghphrsfxf.mp4', '/content/drive/MyDrive/dataset/FF_REAL_Face_only_data/bgaogsjehq.mp4', '/content/drive/MyDrive/dataset/FF_REAL_Face_only_data/bhaaboftbc.mp4', '/content/drive/MyDrive/dataset/FF_REAL_Face_only_data/bgwmmujlmc.mp4', '/content/drive/MyDrive/dataset/FF_REAL_Face_only_data/bhbdugnurr.mp4', '/content/drive/MyDrive/dataset/FF_REAL_Face_only_data/bgvhtpzknn.mp4', '/content/drive/MyDrive/dataset/FF_REAL_Face_only_data/bhpwpydzpo.mp4', '/content/drive/MyDrive/dataset/FF_REAL_Face_only_data/bjkmjilrxp.mp4', '/content/drive/MyDrive/dataset/FF_REAL_Face_only_data/bjjbwsqjir.mp4', '/content/drive/MyDrive/dataset/FF_REAL_Face_only_data/bjsmaqefoi.mp4', '/content/drive/MyDrive/dataset/FF_REAL_Face_only_data/bhsluedavd.mp4', '/content/drive/MyDrive/dataset/FF_REAL_Face_only_data/bilnggbxgu.mp4', '/content/drive/MyDrive/dataset/FF_REAL_Face_only_data/blzydqdfem.mp4', '/content/drive/MyDrive/dataset/FF_REAL_Face_only_data/bmbbkwmxqj.mp4', '/content/drive/MyDrive/dataset/FF_REAL_Face_only_data/bkmdzhfzfh.mp4', '/content/drive/MyDrive/dataset/FF_REAL_Face_only_data/bkvetcojbt.mp4', '/content/drive/MyDrive/dataset/FF_REAL_Face_only_data/bkwxhglwct.mp4', '/content/drive/MyDrive/dataset/FF_REAL_Face_only_data/blpchvmhxx.mp4', '/content/drive/MyDrive/dataset/FF_REAL_Face_only_data/bmehkyanbj.mp4', '/content/drive/MyDrive/dataset/FF_REAL_Face_only_data/bmioepcpsx.mp4', '/content/drive/MyDrive/dataset/FF_REAL_Face_only_data/bmjmjmbglm.mp4', '/content/drive/MyDrive/dataset/FF_REAL_Face_only_data/bmjzrlszhi.mp4', '/content/drive/MyDrive/dataset/FF_REAL_Face_only_data/bmhvktyiwp.mp4', '/content/drive/MyDrive/dataset/FF_REAL_Face_only_data/bntlodcfeg.mp4', '/content/drive/MyDrive/dataset/FF_REAL_Face_only_data/bofqajtwve.mp4', '/content/drive/MyDrive/dataset/FF_REAL_Face_only_data/bnjcdrfuov.mp4', '/content/drive/MyDrive/dataset/FF_REAL_Face_only_data/bndybcqhfr.mp4', '/content/drive/MyDrive/dataset/FF_REAL_Face_only_data/bnbuonyoje.mp4', '/content/drive/MyDrive/dataset/FF_REAL_Face_only_data/bpapbctoao.mp4', '/content/drive/MyDrive/dataset/FF_REAL_Face_only_data/bopqhhalml.mp4', '/content/drive/MyDrive/dataset/FF_REAL_Face_only_data/boovltmuwi.mp4', '/content/drive/MyDrive/dataset/FF_REAL_Face_only_data/bourlmzsio.mp4', '/content/drive/MyDrive/dataset/FF_REAL_Face_only_data/bqhtpqmmqp.mp4', '/content/drive/MyDrive/dataset/FF_REAL_Face_only_data/bpwzipqtxf.mp4', '/content/drive/MyDrive/dataset/FF_REAL_Face_only_data/bqdjzqhcft.mp4', '/content/drive/MyDrive/dataset/FF_REAL_Face_only_data/bqkdbcqjvb.mp4', '/content/drive/MyDrive/dataset/FF_REAL_Face_only_data/bqeiblbxtl.mp4', '/content/drive/MyDrive/dataset/FF_REAL_Face_only_data/bpxckdzddv.mp4', '/content/drive/MyDrive/dataset/FF_REAL_Face_only_data/bqtuuwzdtr.mp4', '/content/drive/MyDrive/dataset/FF_REAL_Face_only_data/bqqpbzjgup.mp4', '/content/drive/MyDrive/dataset/FF_REAL_Face_only_data/brhalypwoo.mp4', '/content/drive/MyDrive/dataset/FF_REAL_Face_only_data/bqnymlsayl.mp4', '/content/drive/MyDrive/dataset/FF_REAL_Face_only_data/brvqtabyxj.mp4', '/content/drive/MyDrive/dataset/FF_REAL_Face_only_data/bsfmwclnqy.mp4', '/content/drive/MyDrive/dataset/FF_REAL_Face_only_data/bseamdrpbj.mp4', '/content/drive/MyDrive/dataset/FF_REAL_Face_only_data/btiysiskpf.mp4', '/content/drive/MyDrive/dataset/FF_REAL_Face_only_data/brwrlczjvi.mp4', '/content/drive/MyDrive/dataset/FF_REAL_Face_only_data/bsqgziaylx.mp4', '/content/drive/MyDrive/dataset/FF_REAL_Face_only_data/btmsngnqhv.mp4', '/content/drive/MyDrive/dataset/FF_REAL_Face_only_data/btohlidmru.mp4', '/content/drive/MyDrive/dataset/FF_REAL_Face_only_data/btjwbtsgln.mp4', '/content/drive/MyDrive/dataset/FF_REAL_Face_only_data/btugrnoton.mp4', '/content/drive/MyDrive/dataset/FF_REAL_Face_only_data/btjlfpzbdu.mp4']\n",
            "Number of video processed:  1  Remaining :  159\n",
            "Corrupted video is :  /content/drive/MyDrive/dataset/FF_REAL_Face_only_data/dhcndnuwta.mp4\n",
            "Number of video processed:  6  Remaining :  154\n",
            "Corrupted video is :  /content/drive/MyDrive/dataset/FF_REAL_Face_only_data/abofeumbvv.mp4\n",
            "Number of video processed:  16  Remaining :  144\n",
            "Corrupted video is :  /content/drive/MyDrive/dataset/FF_REAL_Face_only_data/adhsbajydo.mp4\n",
            "Number of video processed:  39  Remaining :  121\n",
            "Corrupted video is :  /content/drive/MyDrive/dataset/FF_REAL_Face_only_data/andaxzscny.mp4\n",
            "Number of video processed:  46  Remaining :  114\n",
            "Corrupted video is :  /content/drive/MyDrive/dataset/FF_REAL_Face_only_data/aorjvbyxhw.mp4\n",
            "Number of video processed:  62  Remaining :  98\n",
            "Corrupted video is :  /content/drive/MyDrive/dataset/FF_REAL_Face_only_data/atvmxvwyns.mp4\n",
            "Number of video processed:  70  Remaining :  90\n",
            "Corrupted video is :  /content/drive/MyDrive/dataset/FF_REAL_Face_only_data/avvdgsennp.mp4\n",
            "Number of video processed:  80  Remaining :  80\n",
            "Corrupted video is :  /content/drive/MyDrive/dataset/FF_REAL_Face_only_data/axwgcsyphv.mp4\n",
            "Number of video processed:  95  Remaining :  65\n",
            "Corrupted video is :  /content/drive/MyDrive/dataset/FF_REAL_Face_only_data/bbvgxeczei.mp4\n",
            "Number of video processed:  143  Remaining :  17\n",
            "Corrupted video is :  /content/drive/MyDrive/dataset/FF_REAL_Face_only_data/bqkdbcqjvb.mp4\n",
            "Number of video processed:  160  Remaining :  0\n",
            "Corrupted video is :  /content/drive/MyDrive/dataset/FF_REAL_Face_only_data/btjlfpzbdu.mp4\n",
            "0\n"
          ]
        }
      ]
    },
    {
      "cell_type": "code",
      "source": [
        "import json\n",
        "import glob\n",
        "import numpy as np\n",
        "import cv2\n",
        "import copy\n",
        "import random\n",
        "\n",
        "video_files =  glob.glob('/content/drive/MyDrive/dataset/deep_fake/FF_REAL_Face_only_data/*.mp4')\n",
        "\n",
        "random.shuffle(video_files)\n",
        "random.shuffle(video_files)\n",
        "frame_count = []\n",
        "for video_file in video_files:\n",
        "  cap = cv2.VideoCapture(video_file)\n",
        "  if(int(cap.get(cv2.CAP_PROP_FRAME_COUNT))<100):\n",
        "    video_files.remove(video_file)\n",
        "    continue\n",
        "  frame_count.append(int(cap.get(cv2.CAP_PROP_FRAME_COUNT)))\n",
        "print(\"frames are \" , frame_count)\n",
        "print(\"Total no of video: \" , len(frame_count))\n",
        "print('Average frame per video:',np.mean(frame_count))"
      ],
      "metadata": {
        "colab": {
          "base_uri": "https://localhost:8080/"
        },
        "id": "K-p0DvyoZ0p1",
        "outputId": "435ea776-89cc-4f2f-afb6-57d6ecaa2bee"
      },
      "execution_count": 9,
      "outputs": [
        {
          "output_type": "stream",
          "name": "stdout",
          "text": [
            "frames are  [148, 148, 148, 148, 148, 148, 148, 148, 148, 148, 148, 148, 148, 148, 148, 148, 148, 148, 148, 148, 148, 148, 148, 148, 148, 148, 148, 148, 148, 148, 148, 148, 148, 148, 148, 148, 148, 148, 148, 148, 148, 148, 148, 148, 148, 148, 148, 148, 148, 148, 148, 148, 148, 148, 148, 148, 148, 148, 148, 148, 142, 148, 148, 148, 148, 148, 148, 148, 148, 148, 148, 148, 148, 148, 148, 148, 148, 148, 148, 148, 148, 148, 148, 148, 148, 148, 148, 148, 148, 148, 148, 148, 148, 148, 148, 148, 148, 148, 148, 148, 148, 148, 148, 148, 148, 148, 148, 148, 148, 148, 148, 148, 148, 148, 148, 148, 148, 148, 148, 148, 148, 148, 148, 148, 148, 148, 148, 148, 148, 148, 148, 148, 148, 148, 148, 148, 148, 148, 148]\n",
            "Total no of video:  139\n",
            "Average frame per video: 147.9568345323741\n"
          ]
        }
      ]
    },
    {
      "cell_type": "code",
      "source": [
        "import torch\n",
        "import torchvision\n",
        "from torchvision import transforms\n",
        "from torch.utils.data import DataLoader\n",
        "from torch.utils.data.dataset import Dataset\n",
        "import os\n",
        "import numpy as np\n",
        "import cv2\n",
        "import matplotlib.pyplot as plt\n",
        "import face_recognition\n",
        "class video_dataset(Dataset):\n",
        "    def __init__(self,video_names,labels,sequence_length = 60,transform = None):\n",
        "        self.video_names = video_names\n",
        "        self.labels = labels\n",
        "        self.transform = transform\n",
        "        self.count = sequence_length\n",
        "    def __len__(self):\n",
        "        return len(self.video_names)\n",
        "    def __getitem__(self,idx):\n",
        "        video_path = self.video_names[idx]\n",
        "        frames = []\n",
        "        a = int(100/self.count)\n",
        "        first_frame = np.random.randint(0,a)\n",
        "        temp_video = video_path.split('/')[-1]\n",
        "        #print(temp_video)\n",
        "        label = self.labels[labels['videoname'] == temp_video].values.tolist()[0][3]\n",
        "        if(label == 'FAKE'):\n",
        "          label = 0\n",
        "        if(label == 'REAL'):\n",
        "          label = 1\n",
        "        for i,frame in enumerate(self.frame_extract(video_path)):\n",
        "          frames.append(self.transform(frame))\n",
        "          if(len(frames) == self.count):\n",
        "            break\n",
        "        frames = torch.stack(frames)\n",
        "        frames = frames[:self.count]\n",
        "        #print(\"length:\" , len(frames), \"label\",label)\n",
        "        return frames,label\n",
        "    def frame_extract(self,path):\n",
        "      vidObj = cv2.VideoCapture(path) \n",
        "      success = 1\n",
        "      while success:\n",
        "          success, image = vidObj.read()\n",
        "          if success:\n",
        "              yield image\n",
        "#plot the image\n",
        "def im_plot(tensor):\n",
        "    image = tensor.cpu().numpy().transpose(1,2,0)\n",
        "    b,g,r = cv2.split(image)\n",
        "    image = cv2.merge((r,g,b))\n",
        "    image = image*[0.22803, 0.22145, 0.216989] +  [0.43216, 0.394666, 0.37645]\n",
        "    image = image*255.0\n",
        "    plt.imshow(image.astype(int))\n",
        "    plt.show()"
      ],
      "metadata": {
        "id": "zFzFwfkiZ0nC"
      },
      "execution_count": 47,
      "outputs": []
    },
    {
      "cell_type": "code",
      "source": [
        "def number_of_real_and_fake_videos(data_list):\n",
        "  labels = pd.read_csv('/content/drive/MyDrive/dataset/deep_fake/metadata.csv')\n",
        "  fake = 0\n",
        "  real = 0\n",
        "  to_be_removed=[]\n",
        "  for i in data_list:\n",
        "    temp_video = i.split('/')[-1]\n",
        "    try:\n",
        "      label = labels[labels['videoname'] == temp_video].values.tolist()[0][3]\n",
        "      if(label == 'FAKE'):\n",
        "        fake+=1\n",
        "      if(label == 'REAL'):\n",
        "        real+=1\n",
        "    except:\n",
        "      to_be_removed.append(i)\n",
        "  for i in to_be_removed:\n",
        "    data_list.remove(i)\n",
        "  return real,fake"
      ],
      "metadata": {
        "id": "sclNAyXNZ0kN"
      },
      "execution_count": 53,
      "outputs": []
    },
    {
      "cell_type": "code",
      "source": [
        "number_of_real_and_fake_videos(video_files)"
      ],
      "metadata": {
        "colab": {
          "base_uri": "https://localhost:8080/"
        },
        "id": "q-H7d502SFN_",
        "outputId": "ca451999-0e70-4641-8491-c2c36fb4cc88"
      },
      "execution_count": 55,
      "outputs": [
        {
          "output_type": "execute_result",
          "data": {
            "text/plain": [
              "(24, 117)"
            ]
          },
          "metadata": {},
          "execution_count": 55
        }
      ]
    },
    {
      "cell_type": "code",
      "source": [
        "import random\n",
        "import pandas as pd\n",
        "from sklearn.model_selection import train_test_split\n",
        "\n",
        "# header_list = [\"file\",\"label\"]\n",
        "labels = pd.read_csv('/content/drive/MyDrive/dataset/deep_fake/metadata.csv')\n",
        "# print(labels.head())\n",
        "#print(labels)\n",
        "train_videos = video_files[:int(0.8*len(video_files))]\n",
        "valid_videos = video_files[int(0.8*len(video_files)):]\n",
        "print(\"train : \" , len(train_videos))\n",
        "print(\"test : \" , len(valid_videos))\n",
        "# train_videos,valid_videos = train_test_split(data,test_size = 0.2)\n",
        "# print(train_videos)\n",
        "\n",
        "print(\"TRAIN: \", \"Real:\",number_of_real_and_fake_videos(train_videos)[0],\" Fake:\",number_of_real_and_fake_videos(train_videos)[1])\n",
        "print(\"TEST: \", \"Real:\",number_of_real_and_fake_videos(valid_videos)[0],\" Fake:\",number_of_real_and_fake_videos(valid_videos)[1])\n",
        "\n",
        "\n",
        "im_size = 112\n",
        "mean = [0.485, 0.456, 0.406]\n",
        "std = [0.229, 0.224, 0.225]\n",
        "\n",
        "train_transforms = transforms.Compose([\n",
        "                                        transforms.ToPILImage(),\n",
        "                                        transforms.Resize((im_size,im_size)),\n",
        "                                        transforms.ToTensor(),\n",
        "                                        transforms.Normalize(mean,std)])\n",
        "\n",
        "test_transforms = transforms.Compose([\n",
        "                                        transforms.ToPILImage(),\n",
        "                                        transforms.Resize((im_size,im_size)),\n",
        "                                        transforms.ToTensor(),\n",
        "                                        transforms.Normalize(mean,std)])\n",
        "train_data = video_dataset(train_videos,labels,sequence_length = 10,transform = train_transforms)\n",
        "#print(train_data)\n",
        "val_data = video_dataset(valid_videos,labels,sequence_length = 10,transform = train_transforms)\n",
        "train_loader = DataLoader(train_data,batch_size = 4,shuffle = True,num_workers = 4)\n",
        "valid_loader = DataLoader(val_data,batch_size = 4,shuffle = True,num_workers = 4)\n",
        "image,label = train_data[0]\n",
        "im_plot(image[0,:,:,:])"
      ],
      "metadata": {
        "colab": {
          "base_uri": "https://localhost:8080/",
          "height": 378
        },
        "id": "ptIgBRCdZ0ho",
        "outputId": "b19e0208-f004-4f30-e9c1-ccff5a4d2fd6"
      },
      "execution_count": 57,
      "outputs": [
        {
          "output_type": "stream",
          "name": "stdout",
          "text": [
            "train :  112\n",
            "test :  29\n",
            "TRAIN:  Real: 18  Fake: 94\n"
          ]
        },
        {
          "output_type": "stream",
          "name": "stderr",
          "text": [
            "WARNING:matplotlib.image:Clipping input data to the valid range for imshow with RGB data ([0..1] for floats or [0..255] for integers).\n"
          ]
        },
        {
          "output_type": "stream",
          "name": "stdout",
          "text": [
            "TEST:  Real: 6  Fake: 23\n"
          ]
        },
        {
          "output_type": "display_data",
          "data": {
            "text/plain": [
              "<Figure size 432x288 with 1 Axes>"
            ],
            "image/png": "[encoded data removed]"
          },
          "metadata": {
            "needs_background": "light"
          }
        }
      ]
    },
    {
      "cell_type": "code",
      "source": [
        "from torch import nn\n",
        "from torchvision import models\n",
        "class Model(nn.Module):\n",
        "    def __init__(self, num_classes,latent_dim= 2048, lstm_layers=1 , hidden_dim = 2048, bidirectional = False):\n",
        "        super(Model, self).__init__()\n",
        "        model = models.resnext50_32x4d(pretrained = True) #Residual Network CNN\n",
        "        self.model = nn.Sequential(*list(model.children())[:-2])\n",
        "        self.lstm = nn.LSTM(latent_dim,hidden_dim, lstm_layers,  bidirectional)\n",
        "        self.relu = nn.LeakyReLU()\n",
        "        self.dp = nn.Dropout(0.4)\n",
        "        self.linear1 = nn.Linear(2048,num_classes)\n",
        "        self.avgpool = nn.AdaptiveAvgPool2d(1)\n",
        "    def forward(self, x):\n",
        "        batch_size,seq_length, c, h, w = x.shape\n",
        "        x = x.view(batch_size * seq_length, c, h, w)\n",
        "        fmap = self.model(x)\n",
        "        x = self.avgpool(fmap)\n",
        "        x = x.view(batch_size,seq_length,2048)\n",
        "        x_lstm,_ = self.lstm(x,None)\n",
        "        return fmap,self.dp(self.linear1(torch.mean(x_lstm,dim = 1)))"
      ],
      "metadata": {
        "id": "qoNnB0QaKTL3"
      },
      "execution_count": 58,
      "outputs": []
    },
    {
      "cell_type": "code",
      "source": [
        "model = Model(2).cuda()\n",
        "a,b = model(torch.from_numpy(np.empty((1,20,3,112,112))).type(torch.cuda.FloatTensor))"
      ],
      "metadata": {
        "colab": {
          "base_uri": "https://localhost:8080/",
          "height": 159,
          "referenced_widgets": [
            "4f6700393aed4bac876b88f63e604d8b",
            "95ca03f4ad2744dca669dc547ad91154",
            "559ac5f8f52441c9acdfb97c61e92fa2",
            "ac23a3f4e4cc476cac9993dba752076b",
            "301984a6d3d24fb09b93d790f352fe74",
            "063c4a87bf7948d68ee8e075e7c03614",
            "0f7855f9aba148eabfc382f99ea83636",
            "65841061397a49c48277a48699eabf49",
            "61784c37af4946368edcfcafa91140a1",
            "aa83c8d5f37b4271af37c6442d7c7ec6",
            "e9cf660bdb564f7280e122e98b74c0e4"
          ]
        },
        "id": "k7qa-scjKTIm",
        "outputId": "eb8c7f4d-2829-4d43-d4ad-5a028be651bd"
      },
      "execution_count": 59,
      "outputs": [
        {
          "output_type": "stream",
          "name": "stderr",
          "text": [
            "/usr/local/lib/python3.7/dist-packages/torchvision/models/_utils.py:209: UserWarning: The parameter 'pretrained' is deprecated since 0.13 and will be removed in 0.15, please use 'weights' instead.\n",
            "  f\"The parameter '{pretrained_param}' is deprecated since 0.13 and will be removed in 0.15, \"\n",
            "/usr/local/lib/python3.7/dist-packages/torchvision/models/_utils.py:223: UserWarning: Arguments other than a weight enum or `None` for 'weights' are deprecated since 0.13 and will be removed in 0.15. The current behavior is equivalent to passing `weights=ResNeXt50_32X4D_Weights.IMAGENET1K_V1`. You can also use `weights=ResNeXt50_32X4D_Weights.DEFAULT` to get the most up-to-date weights.\n",
            "  warnings.warn(msg)\n",
            "Downloading: \"https://download.pytorch.org/models/resnext50_32x4d-7cdf4587.pth\" to /root/.cache/torch/hub/checkpoints/resnext50_32x4d-7cdf4587.pth\n"
          ]
        },
        {
          "output_type": "display_data",
          "data": {
            "text/plain": [
              "  0%|          | 0.00/95.8M [00:00<?, ?B/s]"
            ],
            "application/vnd.jupyter.widget-view+json": {
              "version_major": 2,
              "version_minor": 0,
              "model_id": "4f6700393aed4bac876b88f63e604d8b"
            }
          },
          "metadata": {}
        }
      ]
    },
    {
      "cell_type": "code",
      "source": [
        "import torch\n",
        "from torch.autograd import Variable\n",
        "import time\n",
        "import os\n",
        "import sys\n",
        "import os\n",
        "def train_epoch(epoch, num_epochs, data_loader, model, criterion, optimizer):\n",
        "    model.train()\n",
        "    losses = AverageMeter()\n",
        "    accuracies = AverageMeter()\n",
        "    t = []\n",
        "    for i, (inputs, targets) in enumerate(data_loader):\n",
        "        if torch.cuda.is_available():\n",
        "            targets = targets.type(torch.cuda.LongTensor)\n",
        "            inputs = inputs.cuda()\n",
        "        _,outputs = model(inputs)\n",
        "        loss  = criterion(outputs,targets.type(torch.cuda.LongTensor))\n",
        "        acc = calculate_accuracy(outputs, targets.type(torch.cuda.LongTensor))\n",
        "        losses.update(loss.item(), inputs.size(0))\n",
        "        accuracies.update(acc, inputs.size(0))\n",
        "        optimizer.zero_grad()\n",
        "        loss.backward()\n",
        "        optimizer.step()\n",
        "        sys.stdout.write(\n",
        "                \"\\r[Epoch %d/%d] [Batch %d / %d] [Loss: %f, Acc: %.2f%%]\"\n",
        "                % (\n",
        "                    epoch,\n",
        "                    num_epochs,\n",
        "                    i,\n",
        "                    len(data_loader),\n",
        "                    losses.avg,\n",
        "                    accuracies.avg))\n",
        "    torch.save(model.state_dict(),'/content/checkpoint.pt')\n",
        "    return losses.avg,accuracies.avg\n",
        "def test(epoch,model, data_loader ,criterion):\n",
        "    print('Testing')\n",
        "    model.eval()\n",
        "    losses = AverageMeter()\n",
        "    accuracies = AverageMeter()\n",
        "    pred = []\n",
        "    true = []\n",
        "    count = 0\n",
        "    with torch.no_grad():\n",
        "        for i, (inputs, targets) in enumerate(data_loader):\n",
        "            if torch.cuda.is_available():\n",
        "                targets = targets.cuda().type(torch.cuda.FloatTensor)\n",
        "                inputs = inputs.cuda()\n",
        "            _,outputs = model(inputs)\n",
        "            loss = torch.mean(criterion(outputs, targets.type(torch.cuda.LongTensor)))\n",
        "            acc = calculate_accuracy(outputs,targets.type(torch.cuda.LongTensor))\n",
        "            _,p = torch.max(outputs,1) \n",
        "            true += (targets.type(torch.cuda.LongTensor)).detach().cpu().numpy().reshape(len(targets)).tolist()\n",
        "            pred += p.detach().cpu().numpy().reshape(len(p)).tolist()\n",
        "            losses.update(loss.item(), inputs.size(0))\n",
        "            accuracies.update(acc, inputs.size(0))\n",
        "            sys.stdout.write(\n",
        "                    \"\\r[Batch %d / %d]  [Loss: %f, Acc: %.2f%%]\"\n",
        "                    % (\n",
        "                        i,\n",
        "                        len(data_loader),\n",
        "                        losses.avg,\n",
        "                        accuracies.avg\n",
        "                        )\n",
        "                    )\n",
        "        print('\\nAccuracy {}'.format(accuracies.avg))\n",
        "    return true,pred,losses.avg,accuracies.avg\n",
        "class AverageMeter(object):\n",
        "    \"\"\"Computes and stores the average and current value\"\"\"\n",
        "    def __init__(self):\n",
        "        self.reset()\n",
        "    def reset(self):\n",
        "        self.val = 0\n",
        "        self.avg = 0\n",
        "        self.sum = 0\n",
        "        self.count = 0\n",
        "\n",
        "    def update(self, val, n=1):\n",
        "        self.val = val\n",
        "        self.sum += val * n\n",
        "        self.count += n\n",
        "        self.avg = self.sum / self.count\n",
        "def calculate_accuracy(outputs, targets):\n",
        "    batch_size = targets.size(0)\n",
        "\n",
        "    _, pred = outputs.topk(1, 1, True)\n",
        "    pred = pred.t()\n",
        "    correct = pred.eq(targets.view(1, -1))\n",
        "    n_correct_elems = correct.float().sum().item()\n",
        "    return 100* n_correct_elems / batch_size"
      ],
      "metadata": {
        "id": "_h7pCGIaKTGL"
      },
      "execution_count": 60,
      "outputs": []
    },
    {
      "cell_type": "code",
      "source": [
        "import seaborn as sn\n",
        "#Output confusion matrix\n",
        "def print_confusion_matrix(y_true, y_pred):\n",
        "    cm = confusion_matrix(y_true, y_pred)\n",
        "    print('True positive = ', cm[0][0])\n",
        "    print('False positive = ', cm[0][1])\n",
        "    print('False negative = ', cm[1][0])\n",
        "    print('True negative = ', cm[1][1])\n",
        "    print('\\n')\n",
        "    df_cm = pd.DataFrame(cm, range(2), range(2))\n",
        "    sn.set(font_scale=1.4) # for label size\n",
        "    sn.heatmap(df_cm, annot=True, annot_kws={\"size\": 16}) # font size\n",
        "    plt.ylabel('Actual label', size = 20)\n",
        "    plt.xlabel('Predicted label', size = 20)\n",
        "    plt.xticks(np.arange(2), ['Fake', 'Real'], size = 16)\n",
        "    plt.yticks(np.arange(2), ['Fake', 'Real'], size = 16)\n",
        "    plt.ylim([2, 0])\n",
        "    plt.show()\n",
        "    calculated_acc = (cm[0][0]+cm[1][1])/(cm[0][0]+cm[0][1]+cm[1][0]+ cm[1][1])\n",
        "    print(\"Calculated Accuracy\",calculated_acc*100)"
      ],
      "metadata": {
        "id": "8I8DDoVtKTDO"
      },
      "execution_count": 62,
      "outputs": []
    },
    {
      "cell_type": "code",
      "source": [
        "def plot_loss(train_loss_avg,test_loss_avg,num_epochs):\n",
        "  loss_train = train_loss_avg\n",
        "  loss_val = test_loss_avg\n",
        "  print(num_epochs)\n",
        "  epochs = range(1,num_epochs+1)\n",
        "  plt.plot(epochs, loss_train, 'g', label='Training loss')\n",
        "  plt.plot(epochs, loss_val, 'b', label='validation loss')\n",
        "  plt.title('Training and Validation loss')\n",
        "  plt.xlabel('Epochs')\n",
        "  plt.ylabel('Loss')\n",
        "  plt.legend()\n",
        "  plt.show()\n",
        "def plot_accuracy(train_accuracy,test_accuracy,num_epochs):\n",
        "  loss_train = train_accuracy\n",
        "  loss_val = test_accuracy\n",
        "  epochs = range(1,num_epochs+1)\n",
        "  plt.plot(epochs, loss_train, 'g', label='Training accuracy')\n",
        "  plt.plot(epochs, loss_val, 'b', label='validation accuracy')\n",
        "  plt.title('Training and Validation accuracy')\n",
        "  plt.xlabel('Epochs')\n",
        "  plt.ylabel('Accuracy')\n",
        "  plt.legend()\n",
        "  plt.show()"
      ],
      "metadata": {
        "id": "tdw0xweyUA2O"
      },
      "execution_count": 63,
      "outputs": []
    },
    {
      "cell_type": "code",
      "source": [
        "from sklearn.metrics import confusion_matrix\n",
        "#learning rate\n",
        "lr = 1e-5#0.001\n",
        "#number of epochs \n",
        "num_epochs = 20\n",
        "\n",
        "optimizer = torch.optim.Adam(model.parameters(), lr= lr,weight_decay = 1e-5)\n",
        "\n",
        "#class_weights = torch.from_numpy(np.asarray([1,15])).type(torch.FloatTensor).cuda()\n",
        "#criterion = nn.CrossEntropyLoss(weight = class_weights).cuda()\n",
        "criterion = nn.CrossEntropyLoss().cuda()\n",
        "train_loss_avg =[]\n",
        "train_accuracy = []\n",
        "test_loss_avg = []\n",
        "test_accuracy = []\n",
        "for epoch in range(1,num_epochs+1):\n",
        "    l, acc = train_epoch(epoch,num_epochs,train_loader,model,criterion,optimizer)\n",
        "    train_loss_avg.append(l)\n",
        "    train_accuracy.append(acc)\n",
        "    true,pred,tl,t_acc = test(epoch,model,valid_loader,criterion)\n",
        "    test_loss_avg.append(tl)\n",
        "    test_accuracy.append(t_acc)\n",
        "plot_loss(train_loss_avg,test_loss_avg,len(train_loss_avg))\n",
        "plot_accuracy(train_accuracy,test_accuracy,len(train_accuracy))\n",
        "print(confusion_matrix(true,pred))\n",
        "print_confusion_matrix(true,pred)"
      ],
      "metadata": {
        "colab": {
          "base_uri": "https://localhost:8080/",
          "height": 1000
        },
        "id": "VbZhqp1aUAze",
        "outputId": "485c187c-9ec9-4100-cf3e-38d8c53836db"
      },
      "execution_count": 64,
      "outputs": [
        {
          "output_type": "stream",
          "name": "stderr",
          "text": [
            "/usr/local/lib/python3.7/dist-packages/torch/utils/data/dataloader.py:566: UserWarning: This DataLoader will create 4 worker processes in total. Our suggested max number of worker in current system is 2, which is smaller than what this DataLoader is going to create. Please be aware that excessive worker creation might get DataLoader running slow or even freeze, lower the worker number to avoid potential slowness/freeze if necessary.\n",
            "  cpuset_checked))\n"
          ]
        },
        {
          "output_type": "stream",
          "name": "stdout",
          "text": [
            "[Epoch 1/20] [Batch 27 / 28] [Loss: 0.513060, Acc: 83.93%]Testing\n",
            "[Batch 7 / 8]  [Loss: nan, Acc: 79.31%]\n",
            "Accuracy 79.3103448275862\n",
            "[Epoch 2/20] [Batch 27 / 28] [Loss: 0.466267, Acc: 83.93%]Testing\n",
            "[Batch 7 / 8]  [Loss: nan, Acc: 79.31%]\n",
            "Accuracy 79.3103448275862\n",
            "[Epoch 3/20] [Batch 27 / 28] [Loss: 0.439710, Acc: 83.93%]Testing\n",
            "[Batch 7 / 8]  [Loss: nan, Acc: 79.31%]\n",
            "Accuracy 79.3103448275862\n",
            "[Epoch 4/20] [Batch 27 / 28] [Loss: 0.459965, Acc: 83.93%]Testing\n",
            "[Batch 7 / 8]  [Loss: nan, Acc: 79.31%]\n",
            "Accuracy 79.3103448275862\n",
            "[Epoch 5/20] [Batch 27 / 28] [Loss: 0.439922, Acc: 83.93%]Testing\n",
            "[Batch 7 / 8]  [Loss: nan, Acc: 79.31%]\n",
            "Accuracy 79.3103448275862\n",
            "[Epoch 6/20] [Batch 27 / 28] [Loss: 0.419145, Acc: 84.82%]Testing\n",
            "[Batch 7 / 8]  [Loss: nan, Acc: 79.31%]\n",
            "Accuracy 79.3103448275862\n",
            "[Epoch 7/20] [Batch 27 / 28] [Loss: 0.410199, Acc: 83.04%]Testing\n",
            "[Batch 7 / 8]  [Loss: nan, Acc: 79.31%]\n",
            "Accuracy 79.3103448275862\n",
            "[Epoch 8/20] [Batch 27 / 28] [Loss: 0.372993, Acc: 85.71%]Testing\n",
            "[Batch 7 / 8]  [Loss: nan, Acc: 79.31%]\n",
            "Accuracy 79.3103448275862\n",
            "[Epoch 9/20] [Batch 27 / 28] [Loss: 0.332839, Acc: 88.39%]Testing\n",
            "[Batch 7 / 8]  [Loss: nan, Acc: 79.31%]\n",
            "Accuracy 79.3103448275862\n",
            "[Epoch 10/20] [Batch 27 / 28] [Loss: 0.286205, Acc: 93.75%]Testing\n",
            "[Batch 7 / 8]  [Loss: nan, Acc: 79.31%]\n",
            "Accuracy 79.3103448275862\n",
            "[Epoch 11/20] [Batch 27 / 28] [Loss: 0.269136, Acc: 92.86%]Testing\n",
            "[Batch 7 / 8]  [Loss: nan, Acc: 79.31%]\n",
            "Accuracy 79.3103448275862\n",
            "[Epoch 12/20] [Batch 27 / 28] [Loss: 0.270233, Acc: 98.21%]Testing\n",
            "[Batch 7 / 8]  [Loss: nan, Acc: 79.31%]\n",
            "Accuracy 79.3103448275862\n",
            "[Epoch 13/20] [Batch 27 / 28] [Loss: 0.240847, Acc: 98.21%]Testing\n",
            "[Batch 7 / 8]  [Loss: nan, Acc: 79.31%]\n",
            "Accuracy 79.3103448275862\n",
            "[Epoch 14/20] [Batch 27 / 28] [Loss: 0.242535, Acc: 98.21%]Testing\n",
            "[Batch 7 / 8]  [Loss: nan, Acc: 79.31%]\n",
            "Accuracy 79.3103448275862\n",
            "[Epoch 15/20] [Batch 27 / 28] [Loss: 0.174227, Acc: 100.00%]Testing\n",
            "[Batch 7 / 8]  [Loss: nan, Acc: 79.31%]\n",
            "Accuracy 79.3103448275862\n",
            "[Epoch 16/20] [Batch 27 / 28] [Loss: 0.138695, Acc: 100.00%]Testing\n",
            "[Batch 7 / 8]  [Loss: nan, Acc: 79.31%]\n",
            "Accuracy 79.3103448275862\n",
            "[Epoch 17/20] [Batch 27 / 28] [Loss: 0.161171, Acc: 100.00%]Testing\n",
            "[Batch 7 / 8]  [Loss: nan, Acc: 79.31%]\n",
            "Accuracy 79.3103448275862\n",
            "[Epoch 18/20] [Batch 27 / 28] [Loss: 0.125336, Acc: 100.00%]Testing\n",
            "[Batch 7 / 8]  [Loss: nan, Acc: 79.31%]\n",
            "Accuracy 79.3103448275862\n",
            "[Epoch 19/20] [Batch 27 / 28] [Loss: 0.121749, Acc: 100.00%]Testing\n",
            "[Batch 7 / 8]  [Loss: nan, Acc: 79.31%]\n",
            "Accuracy 79.3103448275862\n",
            "[Epoch 20/20] [Batch 27 / 28] [Loss: 0.099786, Acc: 100.00%]Testing\n",
            "[Batch 7 / 8]  [Loss: nan, Acc: 79.31%]\n",
            "Accuracy 79.3103448275862\n",
            "20\n"
          ]
        },
        {
          "output_type": "display_data",
          "data": {
            "text/plain": [
              "<Figure size 432x288 with 1 Axes>"
            ],
            "image/png": "[encoded data removed]"
          },
          "metadata": {
            "needs_background": "light"
          }
        },
        {
          "output_type": "display_data",
          "data": {
            "text/plain": [
              "<Figure size 432x288 with 1 Axes>"
            ],
            "image/png": "[encoded data removed]"
          },
          "metadata": {
            "needs_background": "light"
          }
        },
        {
          "output_type": "stream",
          "name": "stdout",
          "text": [
            "[[23  0]\n",
            " [ 6  0]]\n",
            "True positive =  23\n",
            "False positive =  0\n",
            "False negative =  6\n",
            "True negative =  0\n",
            "\n",
            "\n"
          ]
        },
        {
          "output_type": "display_data",
          "data": {
            "text/plain": [
              "<Figure size 432x288 with 2 Axes>"
            ],
            "image/png": "[encoded data removed]"
          },
          "metadata": {}
        },
        {
          "output_type": "stream",
          "name": "stdout",
          "text": [
            "Calculated Accuracy 79.3103448275862\n"
          ]
        }
      ]
    },
    {
      "cell_type": "code",
      "source": [
        "import shutil\n",
        "shutil.copy('/content/checkpoint.pt','/content/drive/MyDrive/models/deep_fake_weights/')"
      ],
      "metadata": {
        "colab": {
          "base_uri": "https://localhost:8080/",
          "height": 36
        },
        "id": "8aJotjrbUAww",
        "outputId": "2702cda0-f156-49d3-844c-b170c43dbf1e"
      },
      "execution_count": 66,
      "outputs": [
        {
          "output_type": "execute_result",
          "data": {
            "text/plain": [
              "'/content/drive/MyDrive/models/deep_fake_weights/checkpoint.pt'"
            ],
            "application/vnd.google.colaboratory.intrinsic+json": {
              "type": "string"
            }
          },
          "metadata": {},
          "execution_count": 66
        }
      ]
    }
  ]
}